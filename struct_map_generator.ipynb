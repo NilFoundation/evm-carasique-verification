{
 "cells": [
  {
   "cell_type": "code",
   "execution_count": 27,
   "metadata": {},
   "outputs": [],
   "source": [
    "struct_def = \"\"\"struct local_vars_type {\n",
    "        // 0x0\n",
    "        uint256 colinear_value;\n",
    "        // 0x60\n",
    "        uint256 x;\n",
    "        // 0x80\n",
    "        uint256 x_next;\n",
    "        // 0xa0\n",
    "        uint256 alpha;\n",
    "        // 0xc0\n",
    "        uint256 round_proof_offset;\n",
    "        // 0xe0\n",
    "        uint256 round_proof_y_offset;\n",
    "        // 0x100\n",
    "        uint256 round_proof_p_offset;\n",
    "        // 0x120\n",
    "        uint256 len;\n",
    "        // 0x140\n",
    "        bool status;\n",
    "    }\"\"\""
   ]
  },
  {
   "cell_type": "code",
   "execution_count": 28,
   "metadata": {
    "scrolled": false
   },
   "outputs": [
    {
     "name": "stdout",
     "output_type": "stream",
     "text": [
      "struct local_vars_type {\n",
      "// 0x0\n",
      "uint256 colinear_value;\n",
      "// 0x20\n",
      "uint256 x;\n",
      "// 0x40\n",
      "uint256 x_next;\n",
      "// 0x60\n",
      "uint256 alpha;\n",
      "// 0x80\n",
      "uint256 round_proof_offset;\n",
      "// 0xa0\n",
      "uint256 round_proof_y_offset;\n",
      "// 0xc0\n",
      "uint256 round_proof_p_offset;\n",
      "// 0xe0\n",
      "uint256 len;\n",
      "// 0x100\n",
      "bool status;\n",
      "}\n",
      "\n",
      "uint256 constant COLINEAR_VALUE_OFFSET =  0x0;\n",
      "uint256 constant X_OFFSET =  0x20;\n",
      "uint256 constant X_NEXT_OFFSET =  0x40;\n",
      "uint256 constant ALPHA_OFFSET =  0x60;\n",
      "uint256 constant ROUND_PROOF_OFFSET_OFFSET =  0x80;\n",
      "uint256 constant ROUND_PROOF_Y_OFFSET_OFFSET =  0xa0;\n",
      "uint256 constant ROUND_PROOF_P_OFFSET_OFFSET =  0xc0;\n",
      "uint256 constant LEN_OFFSET =  0xe0;\n",
      "uint256 constant STATUS_OFFSET =  0x100;\n"
     ]
    }
   ],
   "source": [
    "def is_field_def(line):\n",
    "    if not line or line.startswith('struct') or line.startswith('//') or line.startswith('{') or line.startswith('}'):\n",
    "        return False\n",
    "    return True\n",
    "\n",
    "def detect_field_size(line):\n",
    "    if '[]' in line:\n",
    "        return 0x20\n",
    "    \n",
    "    size_0x20_types_list = ['uint256', 'bytes32', 'int256']\n",
    "    if any(map(lambda x: line.startswith(x), size_0x20_types_list)):\n",
    "        return 0x20\n",
    "    \n",
    "    size_0x01_types_list = ['byte', 'bool', 'uint8', 'int8']\n",
    "    if any(map(lambda x: line.startswith(x), size_0x01_types_list)):\n",
    "        return 1\n",
    "\n",
    "def is_size_comment(line):\n",
    "    if line.startswith('// 0x'):\n",
    "        return True\n",
    "    return False\n",
    "    \n",
    "def get_field_name(line):\n",
    "    for subs in line.split():\n",
    "        if subs.endswith(';'):\n",
    "            return subs.replace(';', '').upper()\n",
    "\n",
    "result_struct_def = ''\n",
    "current_offset = 0\n",
    "offset_map = dict()\n",
    "for raw_line in struct_def.splitlines():\n",
    "    line = raw_line.strip()\n",
    "    if is_field_def(line):\n",
    "        offset_map[get_field_name(line) + '_OFFSET'] = hex(current_offset)\n",
    "        result_struct_def += f'// {hex(current_offset)}\\n'\n",
    "        current_offset += detect_field_size(line)\n",
    "    if not is_size_comment(line):\n",
    "        result_struct_def += line + '\\n'\n",
    "\n",
    "print(result_struct_def)\n",
    "for k, v in offset_map.items():\n",
    "    print(f'uint256 constant {k} = ', f'{v};')"
   ]
  },
  {
   "cell_type": "code",
   "execution_count": null,
   "metadata": {},
   "outputs": [],
   "source": []
  }
 ],
 "metadata": {
  "kernelspec": {
   "display_name": "Python 3",
   "language": "python",
   "name": "python3"
  },
  "language_info": {
   "codemirror_mode": {
    "name": "ipython",
    "version": 3
   },
   "file_extension": ".py",
   "mimetype": "text/x-python",
   "name": "python",
   "nbconvert_exporter": "python",
   "pygments_lexer": "ipython3",
   "version": "3.10.4"
  }
 },
 "nbformat": 4,
 "nbformat_minor": 4
}
